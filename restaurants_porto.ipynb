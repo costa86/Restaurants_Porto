{
 "cells": [
  {
   "cell_type": "code",
   "execution_count": 1,
   "metadata": {},
   "outputs": [],
   "source": [
    "from web_scraping import *"
   ]
  },
  {
   "cell_type": "code",
   "execution_count": 2,
   "metadata": {},
   "outputs": [],
   "source": [
    "r = requests.get(\"https://www.tripadvisor.pt/Restaurants-g189180-Porto_Porto_District_Northern_Portugal.html\")"
   ]
  },
  {
   "cell_type": "code",
   "execution_count": 3,
   "metadata": {},
   "outputs": [],
   "source": [
    "s = bs(r.text,'html.parser')"
   ]
  },
  {
   "cell_type": "code",
   "execution_count": 13,
   "metadata": {},
   "outputs": [],
   "source": [
    "item = s.find_all(class_='title')[3]"
   ]
  },
  {
   "cell_type": "code",
   "execution_count": 59,
   "metadata": {},
   "outputs": [],
   "source": [
    "items = s.find_all(class_='title')"
   ]
  },
  {
   "cell_type": "code",
   "execution_count": 67,
   "metadata": {
    "collapsed": true
   },
   "outputs": [],
   "source": [
    "li = []\n",
    "for i in range(3,len(items)):\n",
    "    li2 = []\n",
    "    item = items[i]\n",
    "    nome = item.text.strip()\n",
    "    site = 'https://www.tripadvisor.pt' + item.a['href']\n",
    "    r1 = requests.get(site)\n",
    "    time.sleep(10)\n",
    "    s1 = bs(r1.text,'html.parser')\n",
    "    fone = s1.find(class_='blRow').find(class_='blEntry phone').text\n",
    "    morada = s1.find(class_='blRow').find(class_='street-address').text\n",
    "    postal = s1.find(class_='blRow').find(class_='locality').text\n",
    "    nota = s1.find(class_='overallRating').text\n",
    "    cont = [nome,fone,morada,postal,nota]\n",
    "    try: preco = ''.join(s1.find_all(class_='row')[4].find(class_='content').text.split())\n",
    "    except: preco = ''\n",
    "    finally: cont.append(preco)\n",
    "    try: email = s1.find(class_='detailsContent').a['href'][7:]\n",
    "    except: email = ''\n",
    "    finally: cont.append(email)\n",
    "    for n in cont: li2.append(n)\n",
    "    li.append(li2)"
   ]
  },
  {
   "cell_type": "code",
   "execution_count": 83,
   "metadata": {},
   "outputs": [],
   "source": [
    "df=pd.DataFrame(li)"
   ]
  },
  {
   "cell_type": "code",
   "execution_count": 96,
   "metadata": {},
   "outputs": [],
   "source": [
    "df.columns=['nome','fone','morada','codigo_postal','nota','preco','email','localidade']"
   ]
  },
  {
   "cell_type": "code",
   "execution_count": 98,
   "metadata": {},
   "outputs": [],
   "source": [
    "df.postal=df.postal.apply(lambda x:x[-10:-2])"
   ]
  },
  {
   "cell_type": "code",
   "execution_count": 127,
   "metadata": {},
   "outputs": [],
   "source": [
    "def troca(cell):\n",
    "    if cell == '':\n",
    "        return ''\n",
    "    if cell[0].isdigit():\n",
    "        return cell\n",
    "    else:\n",
    "        return ''"
   ]
  },
  {
   "cell_type": "code",
   "execution_count": 129,
   "metadata": {},
   "outputs": [],
   "source": [
    "df.preco=df.preco.apply(lambda x:troca(x))"
   ]
  },
  {
   "cell_type": "code",
   "execution_count": null,
   "metadata": {},
   "outputs": [],
   "source": [
    "df.to_csv('restaurants_porto.csv',index=None)"
   ]
  }
 ],
 "metadata": {
  "kernelspec": {
   "display_name": "Python 3",
   "language": "python",
   "name": "python3"
  },
  "language_info": {
   "codemirror_mode": {
    "name": "ipython",
    "version": 3
   },
   "file_extension": ".py",
   "mimetype": "text/x-python",
   "name": "python",
   "nbconvert_exporter": "python",
   "pygments_lexer": "ipython3",
   "version": "3.7.3"
  }
 },
 "nbformat": 4,
 "nbformat_minor": 2
}
